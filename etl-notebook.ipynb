{
 "cells": [
  {
   "cell_type": "code",
   "execution_count": 35,
   "metadata": {},
   "outputs": [],
   "source": [
    "#Required Packages\n",
    "#!pip install tabula-py\n",
    "#!pip install great_expectations\n",
    "#!pip install boto3"
   ]
  },
  {
   "cell_type": "code",
   "execution_count": 36,
   "metadata": {},
   "outputs": [],
   "source": [
    "#Required Imports\n",
    "from tabula import read_pdf\n",
    "import great_expectations as ge\n",
    "import boto3\n",
    "from io import StringIO"
   ]
  },
  {
   "cell_type": "code",
   "execution_count": 52,
   "metadata": {},
   "outputs": [],
   "source": [
    "#Two PDF files. Once is valid; the other is not\n",
    "clean = \"https://github.com/AshHimself/etl-pipeline-from-pdf/raw/master/spacex_launch_data.pdf\"\n",
    "messy = \"https://github.com/AshHimself/etl-pipeline-from-pdf/raw/master/spacex_launch_messy_data.pdf\"\n",
    "\n",
    "source_pdf = read_pdf(messy, lattice=True, pages=\"all\")\n",
    "df = source_pdf[0]"
   ]
  },
  {
   "cell_type": "code",
   "execution_count": 45,
   "metadata": {},
   "outputs": [
    {
     "data": {
      "text/html": [
       "<div>\n",
       "<style scoped>\n",
       "    .dataframe tbody tr th:only-of-type {\n",
       "        vertical-align: middle;\n",
       "    }\n",
       "\n",
       "    .dataframe tbody tr th {\n",
       "        vertical-align: top;\n",
       "    }\n",
       "\n",
       "    .dataframe thead th {\n",
       "        text-align: right;\n",
       "    }\n",
       "</style>\n",
       "<table border=\"1\" class=\"dataframe\">\n",
       "  <thead>\n",
       "    <tr style=\"text-align: right;\">\n",
       "      <th></th>\n",
       "      <th>Flight Numb</th>\n",
       "      <th>Date</th>\n",
       "      <th>Time (UTC)</th>\n",
       "      <th>Booster Ver</th>\n",
       "      <th>iLoanunch Site</th>\n",
       "      <th>Payload</th>\n",
       "      <th>Customer</th>\n",
       "      <th>Mission Outcome</th>\n",
       "    </tr>\n",
       "  </thead>\n",
       "  <tbody>\n",
       "    <tr>\n",
       "      <th>0</th>\n",
       "      <td>1</td>\n",
       "      <td>4/6/10</td>\n",
       "      <td>18:45:00</td>\n",
       "      <td>F9 v1.0  B00</td>\n",
       "      <td>C3CAFS LC-40</td>\n",
       "      <td>Dragon Spacecraft Qualification Unit</td>\n",
       "      <td>SpaceX</td>\n",
       "      <td>Success</td>\n",
       "    </tr>\n",
       "    <tr>\n",
       "      <th>1</th>\n",
       "      <td>2</td>\n",
       "      <td>8/12/10</td>\n",
       "      <td>15:43:00</td>\n",
       "      <td>F9 v1.0  B00</td>\n",
       "      <td>C4CAFS LC-40</td>\n",
       "      <td>Dragon demo flight C1, two CubeSats</td>\n",
       "      <td>NASA (COTS) NRO</td>\n",
       "      <td>Success</td>\n",
       "    </tr>\n",
       "    <tr>\n",
       "      <th>2</th>\n",
       "      <td>3</td>\n",
       "      <td>22/5/12</td>\n",
       "      <td>7:44:00</td>\n",
       "      <td>F9 v1.0  B00</td>\n",
       "      <td>C5CAFS LC-40</td>\n",
       "      <td>Dragon demo flight C2+</td>\n",
       "      <td>NASA (COTS)</td>\n",
       "      <td>Success</td>\n",
       "    </tr>\n",
       "    <tr>\n",
       "      <th>3</th>\n",
       "      <td>4</td>\n",
       "      <td>8/10/12</td>\n",
       "      <td>0:35:00</td>\n",
       "      <td>F9 v1.0  B00</td>\n",
       "      <td>C6CAFS LC-40</td>\n",
       "      <td>SpaceX CRS-1</td>\n",
       "      <td>NASA (CRS)</td>\n",
       "      <td>Failure</td>\n",
       "    </tr>\n",
       "    <tr>\n",
       "      <th>4</th>\n",
       "      <td>5</td>\n",
       "      <td>1/3/13</td>\n",
       "      <td>15:10:00</td>\n",
       "      <td>F9 v1.0  B00</td>\n",
       "      <td>C7CAFS LC-40</td>\n",
       "      <td>SpaceX CRS-2</td>\n",
       "      <td>NASA (CRS)</td>\n",
       "      <td>Success</td>\n",
       "    </tr>\n",
       "  </tbody>\n",
       "</table>\n",
       "</div>"
      ],
      "text/plain": [
       "  Flight Numb     Date Time (UTC)   Booster Ver iLoanunch Site  \\\n",
       "0           1   4/6/10   18:45:00  F9 v1.0  B00   C3CAFS LC-40   \n",
       "1           2  8/12/10   15:43:00  F9 v1.0  B00   C4CAFS LC-40   \n",
       "2           3  22/5/12    7:44:00  F9 v1.0  B00   C5CAFS LC-40   \n",
       "3           4  8/10/12    0:35:00  F9 v1.0  B00   C6CAFS LC-40   \n",
       "4           5   1/3/13   15:10:00  F9 v1.0  B00   C7CAFS LC-40   \n",
       "\n",
       "                                Payload         Customer Mission Outcome  \n",
       "0  Dragon Spacecraft Qualification Unit           SpaceX         Success  \n",
       "1   Dragon demo flight C1, two CubeSats  NASA (COTS) NRO         Success  \n",
       "2                Dragon demo flight C2+      NASA (COTS)         Success  \n",
       "3                          SpaceX CRS-1       NASA (CRS)         Failure  \n",
       "4                          SpaceX CRS-2       NASA (CRS)         Success  "
      ]
     },
     "execution_count": 45,
     "metadata": {},
     "output_type": "execute_result"
    }
   ],
   "source": [
    "df.head()"
   ]
  },
  {
   "cell_type": "code",
   "execution_count": 46,
   "metadata": {},
   "outputs": [],
   "source": [
    "### Let's cleanup the column names a little bit.\n",
    "\n",
    "#Rename the dataframe headers\n",
    "\n",
    "fields = {'Flight Numb': 'flight_number', 'Dr ate': 'date','Time (UTC)': 'time_utc','Booster Ver':'booster_version','iLoanunch Site':'launch_site'}\n",
    "\n",
    "df = df.rename(columns=fields) #rename columns\n",
    "df.columns = map(str.lower, df.columns) ##lower case is better\n"
   ]
  },
  {
   "cell_type": "code",
   "execution_count": 47,
   "metadata": {},
   "outputs": [
    {
     "data": {
      "text/html": [
       "<div>\n",
       "<style scoped>\n",
       "    .dataframe tbody tr th:only-of-type {\n",
       "        vertical-align: middle;\n",
       "    }\n",
       "\n",
       "    .dataframe tbody tr th {\n",
       "        vertical-align: top;\n",
       "    }\n",
       "\n",
       "    .dataframe thead th {\n",
       "        text-align: right;\n",
       "    }\n",
       "</style>\n",
       "<table border=\"1\" class=\"dataframe\">\n",
       "  <thead>\n",
       "    <tr style=\"text-align: right;\">\n",
       "      <th></th>\n",
       "      <th>flight_number</th>\n",
       "      <th>date</th>\n",
       "      <th>time_utc</th>\n",
       "      <th>booster_version</th>\n",
       "      <th>launch_site</th>\n",
       "      <th>payload</th>\n",
       "      <th>customer</th>\n",
       "      <th>mission outcome</th>\n",
       "    </tr>\n",
       "  </thead>\n",
       "  <tbody>\n",
       "    <tr>\n",
       "      <th>0</th>\n",
       "      <td>1</td>\n",
       "      <td>4/6/10</td>\n",
       "      <td>18:45:00</td>\n",
       "      <td>F9 v1.0  B00</td>\n",
       "      <td>C3CAFS LC-40</td>\n",
       "      <td>Dragon Spacecraft Qualification Unit</td>\n",
       "      <td>SpaceX</td>\n",
       "      <td>Success</td>\n",
       "    </tr>\n",
       "    <tr>\n",
       "      <th>1</th>\n",
       "      <td>2</td>\n",
       "      <td>8/12/10</td>\n",
       "      <td>15:43:00</td>\n",
       "      <td>F9 v1.0  B00</td>\n",
       "      <td>C4CAFS LC-40</td>\n",
       "      <td>Dragon demo flight C1, two CubeSats</td>\n",
       "      <td>NASA (COTS) NRO</td>\n",
       "      <td>Success</td>\n",
       "    </tr>\n",
       "    <tr>\n",
       "      <th>2</th>\n",
       "      <td>3</td>\n",
       "      <td>22/5/12</td>\n",
       "      <td>7:44:00</td>\n",
       "      <td>F9 v1.0  B00</td>\n",
       "      <td>C5CAFS LC-40</td>\n",
       "      <td>Dragon demo flight C2+</td>\n",
       "      <td>NASA (COTS)</td>\n",
       "      <td>Success</td>\n",
       "    </tr>\n",
       "    <tr>\n",
       "      <th>3</th>\n",
       "      <td>4</td>\n",
       "      <td>8/10/12</td>\n",
       "      <td>0:35:00</td>\n",
       "      <td>F9 v1.0  B00</td>\n",
       "      <td>C6CAFS LC-40</td>\n",
       "      <td>SpaceX CRS-1</td>\n",
       "      <td>NASA (CRS)</td>\n",
       "      <td>Failure</td>\n",
       "    </tr>\n",
       "    <tr>\n",
       "      <th>4</th>\n",
       "      <td>5</td>\n",
       "      <td>1/3/13</td>\n",
       "      <td>15:10:00</td>\n",
       "      <td>F9 v1.0  B00</td>\n",
       "      <td>C7CAFS LC-40</td>\n",
       "      <td>SpaceX CRS-2</td>\n",
       "      <td>NASA (CRS)</td>\n",
       "      <td>Success</td>\n",
       "    </tr>\n",
       "  </tbody>\n",
       "</table>\n",
       "</div>"
      ],
      "text/plain": [
       "  flight_number     date  time_utc booster_version   launch_site  \\\n",
       "0             1   4/6/10  18:45:00    F9 v1.0  B00  C3CAFS LC-40   \n",
       "1             2  8/12/10  15:43:00    F9 v1.0  B00  C4CAFS LC-40   \n",
       "2             3  22/5/12   7:44:00    F9 v1.0  B00  C5CAFS LC-40   \n",
       "3             4  8/10/12   0:35:00    F9 v1.0  B00  C6CAFS LC-40   \n",
       "4             5   1/3/13  15:10:00    F9 v1.0  B00  C7CAFS LC-40   \n",
       "\n",
       "                                payload         customer mission outcome  \n",
       "0  Dragon Spacecraft Qualification Unit           SpaceX         Success  \n",
       "1   Dragon demo flight C1, two CubeSats  NASA (COTS) NRO         Success  \n",
       "2                Dragon demo flight C2+      NASA (COTS)         Success  \n",
       "3                          SpaceX CRS-1       NASA (CRS)         Failure  \n",
       "4                          SpaceX CRS-2       NASA (CRS)         Success  "
      ]
     },
     "execution_count": 47,
     "metadata": {},
     "output_type": "execute_result"
    }
   ],
   "source": [
    "#header names now look a lot better and more ingestiable.\n",
    "df.head()"
   ]
  },
  {
   "cell_type": "code",
   "execution_count": 48,
   "metadata": {},
   "outputs": [],
   "source": [
    "#How can we ensure the quality of this data if this process is to be automated? \n",
    "#If you have ever had to use a PDF document as a source location before you'll know that its possible that whoever is creating \n",
    "# these PDFs might change the field names. Let's test the schema so that if we import this document again on a new document\n",
    "# it'll break gracfully. \n",
    "\n",
    "\n",
    "\n"
   ]
  },
  {
   "cell_type": "code",
   "execution_count": 49,
   "metadata": {},
   "outputs": [
    {
     "name": "stdout",
     "output_type": "stream",
     "text": [
      "Some assertions have failed! :(\n"
     ]
    }
   ],
   "source": [
    "df_ge = ge.dataset.PandasDataset(df) #Load pd dataframe into great_expectations (GE)\n",
    "\n",
    "#Define a rule to define the order and fields that should exist\n",
    "df_ge.expect_table_columns_to_match_ordered_list(['flight_number',\n",
    " 'date',\n",
    " 'time_utc',\n",
    " 'booster_version',\n",
    " 'launch_site',\n",
    " 'payload',\n",
    " 'customer',\n",
    " 'outcome'])\n",
    "#flight_number should ALWAYS be unique. We don't want duplicate data in our warehouse\n",
    "df_ge.expect_column_values_to_be_unique('flight_number')\n",
    "\n",
    "#flight_number should never be null\n",
    "df_ge.expect_column_values_to_not_be_null('flight_number')\n",
    "\n",
    "#flight_number should be an integer\n",
    "df_ge.expect_column_values_to_be_of_type('flight_number', 'int64')\n",
    "\n",
    "#Validate our data\n",
    "validation_results = df_ge.validate()\n",
    "\n",
    "#If our data is valid validation_results[\"success\"] should return True\n",
    "if(validation_results[\"success\"] == True):\n",
    "    print ('All assertions have passed! :)')\n",
    "else:\n",
    "    print ('Some assertions have failed! :(')    "
   ]
  },
  {
   "cell_type": "code",
   "execution_count": null,
   "metadata": {},
   "outputs": [],
   "source": []
  },
  {
   "cell_type": "code",
   "execution_count": 50,
   "metadata": {},
   "outputs": [
    {
     "data": {
      "text/plain": [
       "{'ResponseMetadata': {'RequestId': '246417CF21013C54',\n",
       "  'HostId': 'eCxxcIzThWnvDaUEkMXOHUiEdcfZ8NtnvzpetgF185vz0yRJ4vaz6JTSX/axlHE0QFFVx15z8yk=',\n",
       "  'HTTPStatusCode': 200,\n",
       "  'HTTPHeaders': {'x-amz-id-2': 'eCxxcIzThWnvDaUEkMXOHUiEdcfZ8NtnvzpetgF185vz0yRJ4vaz6JTSX/axlHE0QFFVx15z8yk=',\n",
       "   'x-amz-request-id': '246417CF21013C54',\n",
       "   'date': 'Fri, 18 Sep 2020 14:36:34 GMT',\n",
       "   'etag': '\"6e98062717aebcb4ee450a074b5e2e8f\"',\n",
       "   'content-length': '0',\n",
       "   'server': 'AmazonS3'},\n",
       "  'RetryAttempts': 1},\n",
       " 'ETag': '\"6e98062717aebcb4ee450a074b5e2e8f\"'}"
      ]
     },
     "execution_count": 50,
     "metadata": {},
     "output_type": "execute_result"
    }
   ],
   "source": [
    "AWSAccessKeyId='your_access_key_id'\n",
    "AWSSecretKey='your_secret_key'\n",
    "\n",
    "\n",
    "bucket = 'scrape-pdf-example' # your S3 bucket\n",
    "\n",
    "csv_buffer = StringIO() \n",
    "\n",
    "s3 = boto3.client('s3', aws_access_key_id=AWSAccessKeyId, aws_secret_access_key=AWSSecretKey)\n",
    "\n",
    "df.to_csv(csv_buffer) #save our dataframe into memory\n",
    "s3_resource = boto3.resource('s3')\n",
    "s3_resource.Object(bucket, 'df.csv').put(Body=csv_buffer.getvalue()) #push CSV to S3"
   ]
  },
  {
   "cell_type": "code",
   "execution_count": null,
   "metadata": {},
   "outputs": [],
   "source": []
  }
 ],
 "metadata": {
  "kernelspec": {
   "display_name": "Python 3",
   "language": "python",
   "name": "python3"
  },
  "language_info": {
   "codemirror_mode": {
    "name": "ipython",
    "version": 3
   },
   "file_extension": ".py",
   "mimetype": "text/x-python",
   "name": "python",
   "nbconvert_exporter": "python",
   "pygments_lexer": "ipython3",
   "version": "3.7.9"
  }
 },
 "nbformat": 4,
 "nbformat_minor": 4
}
